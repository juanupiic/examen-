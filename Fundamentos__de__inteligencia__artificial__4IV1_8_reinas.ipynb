{
  "nbformat": 4,
  "nbformat_minor": 0,
  "metadata": {
    "colab": {
      "provenance": [],
      "authorship_tag": "ABX9TyOKlCxbjHPFDA7/znUXSXqM",
      "include_colab_link": true
    },
    "kernelspec": {
      "name": "python3",
      "display_name": "Python 3"
    },
    "language_info": {
      "name": "python"
    }
  },
  "cells": [
    {
      "cell_type": "markdown",
      "metadata": {
        "id": "view-in-github",
        "colab_type": "text"
      },
      "source": [
        "<a href=\"https://colab.research.google.com/github/juanupiic/examen-/blob/main/Fundamentos__de__inteligencia__artificial__4IV1_8_reinas.ipynb\" target=\"_parent\"><img src=\"https://colab.research.google.com/assets/colab-badge.svg\" alt=\"Open In Colab\"/></a>"
      ]
    },
    {
      "cell_type": "markdown",
      "source": [
        "nombres de los integrantes: juan manuel galindo cortes y luis fernando galeano martinez\n",
        " materia:Fundamentos de inteligencia artificial\n",
        " profesora:Jessica Sarahí Méndez Rincón"
      ],
      "metadata": {
        "id": "l2O6yrwSDt-Q"
      }
    },
    {
      "cell_type": "code",
      "execution_count": 1,
      "metadata": {
        "id": "sdyltRkkAC41",
        "outputId": "397dc6a6-8710-4619-b309-2a75c4bffd92",
        "colab": {
          "base_uri": "https://localhost:8080/",
          "height": 583
        }
      },
      "outputs": [
        {
          "output_type": "stream",
          "name": "stdout",
          "text": [
            "Solución encontrada:\n",
            "Reina en fila 0 y columna 0\n",
            "Reina en fila 1 y columna 4\n",
            "Reina en fila 2 y columna 7\n",
            "Reina en fila 3 y columna 5\n",
            "Reina en fila 4 y columna 2\n",
            "Reina en fila 5 y columna 6\n",
            "Reina en fila 6 y columna 1\n",
            "Reina en fila 7 y columna 3\n"
          ]
        },
        {
          "output_type": "display_data",
          "data": {
            "text/plain": [
              "<Figure size 800x800 with 0 Axes>"
            ]
          },
          "metadata": {}
        },
        {
          "output_type": "display_data",
          "data": {
            "text/plain": [
              "<Figure size 480x480 with 1 Axes>"
            ],
            "image/png": "[encoded data removed]"
          },
          "metadata": {}
        }
      ],
      "source": [
        "import matplotlib.pyplot as plt\n",
        "\n",
        "def es_seguro(tablero, fila, columna):\n",
        "    for i in range(fila):\n",
        "        if tablero[i] == columna or \\\n",
        "           tablero[i] - i == columna - fila or \\\n",
        "           tablero[i] + i == columna + fila:\n",
        "            return False\n",
        "    return True\n",
        "\n",
        "def resolver_8_reinas(tablero, fila):\n",
        "    if fila == 8:\n",
        "        return True\n",
        "    for columna in range(8):\n",
        "        if es_seguro(tablero, fila, columna):\n",
        "            tablero[fila] = columna\n",
        "            if resolver_8_reinas(tablero, fila + 1):\n",
        "                return True\n",
        "            tablero[fila] = -1\n",
        "    return False\n",
        "\n",
        "def dibujar_tablero(tablero):\n",
        "    plt.figure(figsize=(8, 8))\n",
        "    plt.matshow([[tablero[i] == j for j in range(8)] for i in range(8)], cmap=\"Blues\")\n",
        "    plt.xticks([])\n",
        "    plt.yticks([])\n",
        "    plt.show()\n",
        "tablero = [-1] * 8\n",
        "if resolver_8_reinas(tablero, 0):\n",
        "    print(\"Solución encontrada:\")\n",
        "    for fila, columna in enumerate(tablero):\n",
        "        print(f\"Reina en fila {fila} y columna {columna}\")\n",
        "    dibujar_tablero(tablero)\n",
        "else:\n",
        "    print(\"No se encontró solución.\")"
      ]
    },
    {
      "cell_type": "code",
      "source": [],
      "metadata": {
        "id": "GtH-McYuAEhY"
      },
      "execution_count": null,
      "outputs": []
    }
  ]
}